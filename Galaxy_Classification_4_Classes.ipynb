{
 "cells": [
  {
   "cell_type": "code",
   "execution_count": 1,
   "id": "15e0d627",
   "metadata": {},
   "outputs": [],
   "source": [
    "#https://drive.google.com/file/d/16o-z_qZpgoLCoQxW4aLSzEHJoxiaWqZ7/view?usp=sharing\n",
    "#https://drive.google.com/file/d/1o9G_I0xRn3LRhDzdurduloVrPeKdFcH9/view"
   ]
  },
  {
   "cell_type": "code",
   "execution_count": 2,
   "id": "0d214ab8",
   "metadata": {},
   "outputs": [],
   "source": [
    "%matplotlib inline\n",
    "import matplotlib.pyplot as plt\n",
    "import numpy as np\n",
    "import pandas as pd\n",
    "import os, random, shutil\n",
    "import tensorflow as tf\n",
    "import seaborn\n",
    "from tensorflow import keras\n",
    "from tensorflow.keras import preprocessing, layers\n",
    "from tensorflow.keras.callbacks import EarlyStopping\n",
    "from keras_preprocessing import image\n",
    "import PIL\n",
    "import cv2\n",
    "from keras.constraints import maxnorm\n",
    "from tensorflow.keras import layers\n",
    "from tensorflow.keras.models import Sequential\n",
    "from keras.models import load_model\n",
    "from keras.layers import GlobalAveragePooling2D, Lambda, Conv2D, MaxPooling2D, Dropout, Dense, Flatten, Activation\n",
    "from keras.preprocessing.image import ImageDataGenerator"
   ]
  },
  {
   "cell_type": "code",
   "execution_count": 3,
   "id": "dbfb53d3",
   "metadata": {},
   "outputs": [],
   "source": [
    "dataset_url = \"https://drive.google.com/file/d/1o9G_I0xRn3LRhDzdurduloVrPeKdFcH9/view?usp=sharing\"\n",
    "data_dir = tf.keras.utils.get_file('Galaxy_Dataset_without_elliptical', origin=dataset_url,  cache_dir='.', untar=True)"
   ]
  },
  {
   "cell_type": "code",
   "execution_count": 4,
   "id": "dea33376",
   "metadata": {},
   "outputs": [
    {
     "ename": "AttributeError",
     "evalue": "'str' object has no attribute 'glob'",
     "output_type": "error",
     "traceback": [
      "\u001b[0;31m---------------------------------------------------------------------------\u001b[0m",
      "\u001b[0;31mAttributeError\u001b[0m                            Traceback (most recent call last)",
      "\u001b[0;32m<ipython-input-4-9ad5cb95378e>\u001b[0m in \u001b[0;36m<module>\u001b[0;34m\u001b[0m\n\u001b[1;32m      1\u001b[0m \u001b[0mdata_dir\u001b[0m\u001b[0;34m\u001b[0m\u001b[0;34m\u001b[0m\u001b[0m\n\u001b[0;32m----> 2\u001b[0;31m \u001b[0mimage_count\u001b[0m \u001b[0;34m=\u001b[0m  \u001b[0mlen\u001b[0m\u001b[0;34m(\u001b[0m\u001b[0mlist\u001b[0m\u001b[0;34m(\u001b[0m\u001b[0mdata_dir\u001b[0m\u001b[0;34m.\u001b[0m\u001b[0mglob\u001b[0m\u001b[0;34m(\u001b[0m\u001b[0;34m'*/*.png'\u001b[0m\u001b[0;34m)\u001b[0m\u001b[0;34m)\u001b[0m\u001b[0;34m)\u001b[0m\u001b[0;34m\u001b[0m\u001b[0;34m\u001b[0m\u001b[0m\n\u001b[0m\u001b[1;32m      3\u001b[0m \u001b[0mprint\u001b[0m\u001b[0;34m(\u001b[0m\u001b[0mimage_count\u001b[0m\u001b[0;34m)\u001b[0m\u001b[0;34m\u001b[0m\u001b[0;34m\u001b[0m\u001b[0m\n",
      "\u001b[0;31mAttributeError\u001b[0m: 'str' object has no attribute 'glob'"
     ]
    }
   ],
   "source": [
    "data_dir\n",
    "image_count =  len(list(data_dir.glob('*/*.png')))\n",
    "print(image_count)"
   ]
  },
  {
   "cell_type": "code",
   "execution_count": 5,
   "id": "3f25dd34",
   "metadata": {},
   "outputs": [
    {
     "data": {
      "text/plain": [
       "PosixPath('datasets/Galaxy_Dataset_without_elliptical')"
      ]
     },
     "execution_count": 5,
     "metadata": {},
     "output_type": "execute_result"
    }
   ],
   "source": [
    "import pathlib\n",
    "data_dir = pathlib.Path(data_dir)\n",
    "data_dir"
   ]
  },
  {
   "cell_type": "code",
   "execution_count": 6,
   "id": "712dacc0",
   "metadata": {},
   "outputs": [
    {
     "data": {
      "text/plain": [
       "[PosixPath('datasets/Galaxy_Dataset_without_elliptical/Irregular Galaxy/thumb-ngc4214444.png'),\n",
       " PosixPath('datasets/Galaxy_Dataset_without_elliptical/Irregular Galaxy/thumb-ngc444999.png'),\n",
       " PosixPath('datasets/Galaxy_Dataset_without_elliptical/Irregular Galaxy/thumb-ugc_08548888.png'),\n",
       " PosixPath('datasets/Galaxy_Dataset_without_elliptical/Irregular Galaxy/thumb-ic_1623bbb.png'),\n",
       " PosixPath('datasets/Galaxy_Dataset_without_elliptical/Irregular Galaxy/thumb-ic4182 (1).png')]"
      ]
     },
     "execution_count": 6,
     "metadata": {},
     "output_type": "execute_result"
    }
   ],
   "source": [
    "list(data_dir.glob('*/*.png'))[:5]"
   ]
  },
  {
   "cell_type": "code",
   "execution_count": 7,
   "id": "922f995e",
   "metadata": {},
   "outputs": [],
   "source": [
    "Galaxy_images_dict= {\n",
    "    'disk': list(data_dir.glob('Disk Galaxy/*')),\n",
    "    'irregular': list(data_dir.glob('Irregular Galaxy/*')),\n",
    "    'lenticular': list(data_dir.glob('Lenticular Galaxy/*')),\n",
    "    'spiral':list(data_dir.glob('Spiral Galaxy/*')),\n",
    "}"
   ]
  },
  {
   "cell_type": "code",
   "execution_count": 8,
   "id": "b1fb2c45",
   "metadata": {},
   "outputs": [],
   "source": [
    "Galaxy_labels_dict = {\n",
    "    'disk':0,\n",
    "    'irregular': 1,\n",
    "    'lenticular': 2,\n",
    "    'spiral': 3,\n",
    "}"
   ]
  },
  {
   "cell_type": "code",
   "execution_count": 9,
   "id": "bbbd248a",
   "metadata": {},
   "outputs": [],
   "source": [
    "X, y = [],[]\n",
    "\n",
    "for Galaxy_name, images in Galaxy_images_dict.items():\n",
    "    for image in images:\n",
    "        img= cv2.imread(str(image))\n",
    "        resized_img =  cv2.resize(img,(180,180))\n",
    "        X.append(resized_img)\n",
    "        y.append(Galaxy_labels_dict[Galaxy_name])"
   ]
  },
  {
   "cell_type": "code",
   "execution_count": 10,
   "id": "a27b93dc",
   "metadata": {},
   "outputs": [],
   "source": [
    "X =  np.array(X)\n",
    "y = np.array(y)"
   ]
  },
  {
   "cell_type": "code",
   "execution_count": 37,
   "id": "b1bae02d",
   "metadata": {},
   "outputs": [],
   "source": [
    "from sklearn.model_selection import train_test_split\n",
    "X_train, X_test, y_train, y_test = train_test_split(X, y, test_size=0.33,random_state=0)"
   ]
  },
  {
   "cell_type": "code",
   "execution_count": 12,
   "id": "c277533a",
   "metadata": {},
   "outputs": [],
   "source": [
    "X_train_scaled = X_train / 255\n",
    "X_test_scaled = X_test / 255\n"
   ]
  },
  {
   "cell_type": "code",
   "execution_count": 19,
   "id": "aa4da244",
   "metadata": {},
   "outputs": [],
   "source": [
    "num_classes = 4\n",
    "\n",
    "model = Sequential([\n",
    "    layers.Conv2D(30,(3,3),padding='same',activation='relu',input_shape=(180,180,3)),\n",
    "    layers.MaxPooling2D(2,2),\n",
    "    layers.Conv2D(30,(3,3), padding='same', activation='relu'),\n",
    "    layers.MaxPooling2D(2,2),\n",
    "    layers.Conv2D(30,(3,3), padding='same', activation='relu'),\n",
    "    layers.MaxPooling2D(2,2),  \n",
    "    layers.Flatten(),\n",
    "    layers.Dropout(0.5),\n",
    "    \n",
    "    layers.Dense(128, activation='relu'),\n",
    "    layers.Dense(num_classes)    \n",
    "])\n",
    "\n",
    "\n",
    "\n"
   ]
  },
  {
   "cell_type": "code",
   "execution_count": 20,
   "id": "de051994",
   "metadata": {
    "scrolled": true
   },
   "outputs": [
    {
     "name": "stdout",
     "output_type": "stream",
     "text": [
      "Epoch 1/30\n",
      "3/3 [==============================] - 2s 521ms/step - loss: 1.3502 - accuracy: 0.2125\n",
      "Epoch 2/30\n",
      "3/3 [==============================] - 2s 519ms/step - loss: 1.1061 - accuracy: 0.4625\n",
      "Epoch 3/30\n",
      "3/3 [==============================] - 2s 515ms/step - loss: 0.7898 - accuracy: 0.7000\n",
      "Epoch 4/30\n",
      "3/3 [==============================] - 2s 555ms/step - loss: 0.6078 - accuracy: 0.7250\n",
      "Epoch 5/30\n",
      "3/3 [==============================] - 2s 559ms/step - loss: 0.5404 - accuracy: 0.7500\n",
      "Epoch 6/30\n",
      "3/3 [==============================] - 2s 523ms/step - loss: 0.3806 - accuracy: 0.8375\n",
      "Epoch 7/30\n",
      "3/3 [==============================] - 2s 527ms/step - loss: 0.2667 - accuracy: 0.9375\n",
      "Epoch 8/30\n",
      "3/3 [==============================] - 2s 521ms/step - loss: 0.2339 - accuracy: 0.9125\n",
      "Epoch 9/30\n",
      "3/3 [==============================] - 2s 520ms/step - loss: 0.1221 - accuracy: 0.9500\n",
      "Epoch 10/30\n",
      "3/3 [==============================] - 2s 524ms/step - loss: 0.0938 - accuracy: 0.9625\n",
      "Epoch 11/30\n",
      "3/3 [==============================] - 2s 531ms/step - loss: 0.0564 - accuracy: 1.0000\n",
      "Epoch 12/30\n",
      "3/3 [==============================] - 2s 538ms/step - loss: 0.0377 - accuracy: 0.9875\n",
      "Epoch 13/30\n",
      "3/3 [==============================] - 2s 528ms/step - loss: 0.0201 - accuracy: 1.0000\n",
      "Epoch 14/30\n",
      "3/3 [==============================] - 2s 520ms/step - loss: 0.0156 - accuracy: 1.0000\n",
      "Epoch 15/30\n",
      "3/3 [==============================] - 2s 524ms/step - loss: 0.0096 - accuracy: 1.0000\n",
      "Epoch 16/30\n",
      "3/3 [==============================] - 2s 523ms/step - loss: 0.0076 - accuracy: 1.0000\n",
      "Epoch 17/30\n",
      "3/3 [==============================] - 2s 528ms/step - loss: 0.0072 - accuracy: 1.0000\n",
      "Epoch 18/30\n",
      "3/3 [==============================] - 2s 523ms/step - loss: 0.0029 - accuracy: 1.0000\n",
      "Epoch 19/30\n",
      "3/3 [==============================] - 2s 517ms/step - loss: 0.0030 - accuracy: 1.0000\n",
      "Epoch 20/30\n",
      "3/3 [==============================] - 2s 515ms/step - loss: 0.0079 - accuracy: 1.0000\n",
      "Epoch 21/30\n",
      "3/3 [==============================] - 2s 517ms/step - loss: 0.0028 - accuracy: 1.0000\n",
      "Epoch 22/30\n",
      "3/3 [==============================] - 2s 517ms/step - loss: 0.0119 - accuracy: 1.0000\n",
      "Epoch 23/30\n",
      "3/3 [==============================] - 2s 517ms/step - loss: 0.0013 - accuracy: 1.0000\n",
      "Epoch 24/30\n",
      "3/3 [==============================] - 2s 523ms/step - loss: 0.0143 - accuracy: 0.9875\n",
      "Epoch 25/30\n",
      "3/3 [==============================] - 2s 514ms/step - loss: 0.0011 - accuracy: 1.0000\n",
      "Epoch 26/30\n",
      "3/3 [==============================] - 2s 527ms/step - loss: 9.6313e-04 - accuracy: 1.0000\n",
      "Epoch 27/30\n",
      "3/3 [==============================] - 2s 520ms/step - loss: 0.0037 - accuracy: 1.0000\n",
      "Epoch 28/30\n",
      "3/3 [==============================] - 2s 525ms/step - loss: 0.0037 - accuracy: 1.0000\n",
      "Epoch 29/30\n",
      "3/3 [==============================] - 2s 545ms/step - loss: 7.8685e-04 - accuracy: 1.0000\n",
      "Epoch 30/30\n",
      "3/3 [==============================] - 2s 516ms/step - loss: 6.7902e-04 - accuracy: 1.0000\n"
     ]
    },
    {
     "data": {
      "text/plain": [
       "<tensorflow.python.keras.callbacks.History at 0x7f08ac2c8250>"
      ]
     },
     "execution_count": 20,
     "metadata": {},
     "output_type": "execute_result"
    }
   ],
   "source": [
    "model.compile(optimizer='adam',\n",
    "              loss=tf.keras.losses.SparseCategoricalCrossentropy(from_logits=True),\n",
    "              metrics=['accuracy'])\n",
    "early_stop = EarlyStopping(monitor = 'val_accuracy', mode = 'max', patience=10, restore_best_weights=False)\n",
    "model.fit(X_train_scaled, y_train, epochs=30)"
   ]
  },
  {
   "cell_type": "code",
   "execution_count": 21,
   "id": "b913e418",
   "metadata": {},
   "outputs": [
    {
     "name": "stdout",
     "output_type": "stream",
     "text": [
      "Model: \"sequential_1\"\n",
      "_________________________________________________________________\n",
      "Layer (type)                 Output Shape              Param #   \n",
      "=================================================================\n",
      "conv2d_3 (Conv2D)            (None, 180, 180, 30)      840       \n",
      "_________________________________________________________________\n",
      "max_pooling2d_3 (MaxPooling2 (None, 90, 90, 30)        0         \n",
      "_________________________________________________________________\n",
      "conv2d_4 (Conv2D)            (None, 90, 90, 30)        8130      \n",
      "_________________________________________________________________\n",
      "max_pooling2d_4 (MaxPooling2 (None, 45, 45, 30)        0         \n",
      "_________________________________________________________________\n",
      "conv2d_5 (Conv2D)            (None, 45, 45, 30)        8130      \n",
      "_________________________________________________________________\n",
      "max_pooling2d_5 (MaxPooling2 (None, 22, 22, 30)        0         \n",
      "_________________________________________________________________\n",
      "flatten_1 (Flatten)          (None, 14520)             0         \n",
      "_________________________________________________________________\n",
      "dropout_1 (Dropout)          (None, 14520)             0         \n",
      "_________________________________________________________________\n",
      "dense_2 (Dense)              (None, 128)               1858688   \n",
      "_________________________________________________________________\n",
      "dense_3 (Dense)              (None, 4)                 516       \n",
      "=================================================================\n",
      "Total params: 1,876,304\n",
      "Trainable params: 1,876,304\n",
      "Non-trainable params: 0\n",
      "_________________________________________________________________\n"
     ]
    }
   ],
   "source": [
    "model.summary()"
   ]
  },
  {
   "cell_type": "code",
   "execution_count": 34,
   "id": "f135383c",
   "metadata": {},
   "outputs": [
    {
     "name": "stdout",
     "output_type": "stream",
     "text": [
      "2/2 [==============================] - 0s 29ms/step - loss: 0.5168 - accuracy: 0.8500\n"
     ]
    },
    {
     "data": {
      "text/plain": [
       "[0.5168479681015015, 0.8500000238418579]"
      ]
     },
     "execution_count": 34,
     "metadata": {},
     "output_type": "execute_result"
    }
   ],
   "source": [
    "model.evaluate(X_test_scaled,y_test)"
   ]
  },
  {
   "cell_type": "code",
   "execution_count": 35,
   "id": "85b261e4",
   "metadata": {},
   "outputs": [],
   "source": [
    "from sklearn.metrics import confusion_matrix , classification_report\n",
    "import numpy as np\n",
    "y_predict =  model.predict(X_test_scaled)\n",
    "y_predict_classes = [np.argmax(element) for element in y_predict]\n",
    "#y_predict_classes[0]\n",
    "#plt.matshow(X_test_scaled[0])"
   ]
  },
  {
   "cell_type": "code",
   "execution_count": 36,
   "id": "7911e120",
   "metadata": {},
   "outputs": [
    {
     "name": "stdout",
     "output_type": "stream",
     "text": [
      "Classification Report: \n",
      "               precision    recall  f1-score   support\n",
      "\n",
      "           0       1.00      1.00      1.00        11\n",
      "           1       1.00      0.89      0.94         9\n",
      "           2       0.71      0.62      0.67         8\n",
      "           3       0.71      0.83      0.77        12\n",
      "\n",
      "    accuracy                           0.85        40\n",
      "   macro avg       0.86      0.84      0.84        40\n",
      "weighted avg       0.86      0.85      0.85        40\n",
      "\n"
     ]
    }
   ],
   "source": [
    "print(\"Classification Report: \\n\", classification_report(y_test, y_predict_classes))"
   ]
  },
  {
   "cell_type": "code",
   "execution_count": 31,
   "id": "768bc7e0",
   "metadata": {},
   "outputs": [
    {
     "data": {
      "text/plain": [
       "Text(69.0, 0.5, 'Truth')"
      ]
     },
     "execution_count": 31,
     "metadata": {},
     "output_type": "execute_result"
    },
    {
     "data": {
      "image/png": "[encoded data removed]",
      "text/plain": [
       "<Figure size 720x504 with 2 Axes>"
      ]
     },
     "metadata": {
      "needs_background": "light"
     },
     "output_type": "display_data"
    }
   ],
   "source": [
    "cm = tf.math.confusion_matrix(labels=y_test,predictions=y_predict_classes)\n",
    "import seaborn as sn\n",
    "plt.figure(figsize = (10,7))\n",
    "sn.heatmap(cm, annot=True, fmt='d')\n",
    "plt.xlabel('Predicted')\n",
    "plt.ylabel('Truth')"
   ]
  }
 ],
 "metadata": {
  "kernelspec": {
   "display_name": "Python 3",
   "language": "python",
   "name": "python3"
  },
  "language_info": {
   "codemirror_mode": {
    "name": "ipython",
    "version": 3
   },
   "file_extension": ".py",
   "mimetype": "text/x-python",
   "name": "python",
   "nbconvert_exporter": "python",
   "pygments_lexer": "ipython3",
   "version": "3.8.8"
  }
 },
 "nbformat": 4,
 "nbformat_minor": 5
}
